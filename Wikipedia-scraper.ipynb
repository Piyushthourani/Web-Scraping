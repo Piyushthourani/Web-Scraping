{
 "cells": [
  {
   "cell_type": "markdown",
   "id": "bf156bcd",
   "metadata": {},
   "source": [
    "# Wikipedia Scraper\n",
    "\n",
    "This notebook scrapes Wikipedia content for any person by searching through Google and extracting the Wikipedia page content.\n",
    "\n",
    "## How It Works\n",
    "\n",
    "1. **Input**: Enter a person's name\n",
    "2. **Google Search**: Creates a Google search query for the person + \"Wikipedia\"\n",
    "3. **URL Extraction**: Finds the Wikipedia URL from search results or constructs it directly\n",
    "4. **Content Scraping**: Fetches and parses the actual Wikipedia page\n",
    "5. **Output**: Saves content to a text file and displays statistics\n",
    "\n",
    "## Features\n",
    "\n",
    "- **Robust URL Detection**: Multiple methods to find the Wikipedia page\n",
    "- **Proper Content Extraction**: Scrapes from the actual Wikipedia page (not Google results)\n",
    "- **Content Filtering**: Focuses on the main article content\n",
    "- **File Output**: Saves scraped content to a text file\n",
    "- **Statistics**: Shows character count, word count, and sentence count\n",
    "\n",
    "## Usage\n",
    "\n",
    "Simply run all cells below and enter a person's name when prompted. The scraper will automatically find their Wikipedia page and extract the content.\n",
    "\n",
    "---"
   ]
  },
  {
   "cell_type": "code",
   "execution_count": 1,
   "id": "0edc4c59",
   "metadata": {},
   "outputs": [],
   "source": [
    "# importing the libraries \n",
    "import requests\n",
    "from bs4 import BeautifulSoup\n",
    "import pandas as pd"
   ]
  },
  {
   "cell_type": "code",
   "execution_count": 2,
   "id": "e4f925e5",
   "metadata": {},
   "outputs": [
    {
     "name": "stdout",
     "output_type": "stream",
     "text": [
      "https://www.google.com/search?q=Virat+kohli+Wikipedia\n"
     ]
    }
   ],
   "source": [
    "# Creating the link \n",
    "\n",
    "inp   = input(\"Enter Persons name: \")\n",
    "\n",
    "link  = 'https://www.google.com/search?q=' + str(inp) +\" \"+ \"Wikipedia\"\n",
    "\n",
    "link  = link.replace(' ','+')\n",
    "print(link)"
   ]
  },
  {
   "cell_type": "code",
   "execution_count": 3,
   "id": "94a61156",
   "metadata": {},
   "outputs": [
    {
     "data": {
      "text/plain": [
       "<Response [200]>"
      ]
     },
     "execution_count": 3,
     "metadata": {},
     "output_type": "execute_result"
    }
   ],
   "source": [
    "# Sending the request to the link\n",
    "response = requests.get(link)\n",
    "response"
   ]
  },
  {
   "cell_type": "code",
   "execution_count": 4,
   "id": "f2988e21",
   "metadata": {},
   "outputs": [
    {
     "data": {
      "text/plain": [
       "<!DOCTYPE html>\n",
       "<html lang=\"en-IN\"><head><title>Google Search</title><style>body{background-color:#fff}</style></head><body><noscript><style>table,div,span,p{display:none}</style><meta content=\"0;url=/httpservice/retry/enablejs?sei=7oxzaKzFCLyE4-EPytyZ-Q8\" http-equiv=\"refresh\"/><div style=\"display:block\">Please click <a href=\"/httpservice/retry/enablejs?sei=7oxzaKzFCLyE4-EPytyZ-Q8\">here</a> if you are not redirected within a few seconds.</div></noscript><script nonce=\"CKK9X3rNtWEnKXG58_SWLw\">(function(){var sctm=false;(function(){sctm&&google.tick(\"load\",\"pbsst\");}).call(this);})();</script><script nonce=\"CKK9X3rNtWEnKXG58_SWLw\" src=\"//www.google.com/js/bg/YepF6H9Jy0TSx9wszDTCKm28JbhMG6AHuJbvQ2mzd74.js\"></script><script nonce=\"CKK9X3rNtWEnKXG58_SWLw\">(function(){var r='1';var ce=30;var sctm=false;var p='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\\x3d\\x3d';var g='knitsail';var eid='7oxzaKzFCLyE4-EPytyZ-Q8';var ss_cgi=false;var sp='';var hashed_query='';var cbs='';var ussv='';(function(){var q=function(a){var b=0;return function(){return b<a.length?{done:!1,value:a[b++]}:{done:!0}}},u=typeof Object.defineProperties==\"function\"?Object.defineProperty:function(a,b,d){if(a==Array.prototype||a==Object.prototype)return a;a[b]=d.value;return a},w=function(a){a=[\"object\"==typeof globalThis&&globalThis,a,\"object\"==typeof window&&window,\"object\"==typeof self&&self,\"object\"==typeof global&&global];for(var b=0;b<a.length;++b){var d=a[b];if(d&&d.Math==Math)return d}throw Error(\"a\");},x=w(this),y=function(a,b){if(b)a:{var d=x;a=a.split(\".\");for(var l=0;l<a.length-1;l++){var f=a[l];if(!(f in d))break a;d=d[f]}a=a[a.length-1];l=d[a];b=b(l);b!=l&&b!=null&&u(d,a,{configurable:!0,writable:!0,value:b})}},z=function(a){var b=typeof Symbol!=\"undefined\"&&Symbol.iterator&&a[Symbol.iterator];if(b)return b.call(a);if(typeof a.length==\"number\")return{next:q(a)};throw Error(\"b`\"+String(a));};y(\"Promise\",function(a){function b(){this.i=null}function d(c){return c instanceof f?c:new f(function(e){e(c)})}if(a)return a;b.prototype.j=function(c){if(this.i==null){this.i=[];var e=this;this.l(function(){e.v()})}this.i.push(c)};var l=x.setTimeout;b.prototype.l=function(c){l(c,0)};b.prototype.v=function(){for(;this.i&&this.i.length;){var c=this.i;this.i=[];for(var e=0;e<c.length;++e){var h=c[e];c[e]=null;try{h()}catch(k){this.A(k)}}}this.i=null};b.prototype.A=function(c){this.l(function(){throw c;})};var f=function(c){this.j=0;this.l=void 0;this.i=[];this.D=!1;var e=this.A();try{c(e.resolve,e.reject)}catch(h){e.reject(h)}};f.prototype.A=function(){function c(k){return function(m){h||(h=!0,k.call(e,m))}}var e=this,h=!1;return{resolve:c(this.J),reject:c(this.v)}};f.prototype.J=function(c){if(c===this)this.v(new TypeError(\"A Promise cannot resolve to itself\"));else if(c instanceof f)this.L(c);else{a:switch(typeof c){case \"object\":var e=c!=null;break a;case \"function\":e=!0;break a;default:e=!1}e?this.I(c):this.C(c)}};f.prototype.I=function(c){var e=void 0;try{e=c.then}catch(h){this.v(h);return}typeof e==\"function\"?this.M(e,c):this.C(c)};f.prototype.v=function(c){this.F(2,c)};f.prototype.C=function(c){this.F(1,c)};f.prototype.F=function(c,e){if(this.j!=0)throw Error(\"c`\"+c+\"`\"+e+\"`\"+this.j);this.j=c;this.l=e;this.j===2&&this.K();this.G()};f.prototype.K=function(){var c=this;l(function(){if(c.H()){var e=x.console;typeof e!==\"undefined\"&&e.error(c.l)}},1)};f.prototype.H=function(){if(this.D)return!1;var c=x.CustomEvent,e=x.Event,h=x.dispatchEvent;if(typeof h===\"undefined\")return!0;typeof c===\"function\"?c=new c(\"unhandledrejection\",{cancelable:!0}):typeof e===\"function\"?c=new e(\"unhandledrejection\",{cancelable:!0}):(c=x.document.createEvent(\"CustomEvent\"),c.initCustomEvent(\"unhandledrejection\",!1,!0,c));c.promise=this;c.reason=this.l;return h(c)};f.prototype.G=function(){if(this.i!=null){for(var c=0;c<this.i.length;++c)v.j(this.i[c]);this.i=null}};var v=new b;f.prototype.L=function(c){var e=this.A();c.B(e.resolve,e.reject)};f.prototype.M=function(c,e){var h=this.A();try{c.call(e,h.resolve,h.reject)}catch(k){h.reject(k)}};f.prototype.then=function(c,e){function h(n,t){return typeof n==\"function\"?function(B){try{k(n(B))}catch(C){m(C)}}:t}var k,m,D=new f(function(n,t){k=n;m=t});this.B(h(c,k),h(e,m));return D};f.prototype.catch=function(c){return this.then(void 0,c)};f.prototype.B=function(c,e){function h(){switch(k.j){case 1:c(k.l);break;case 2:e(k.l);break;default:throw Error(\"d`\"+k.j);}}var k=\n",
       "this;this.i==null?v.j(h):this.i.push(h);this.D=!0};f.resolve=d;f.reject=function(c){return new f(function(e,h){h(c)})};f.race=function(c){return new f(function(e,h){for(var k=z(c),m=k.next();!m.done;m=k.next())d(m.value).B(e,h)})};f.all=function(c){var e=z(c),h=e.next();return h.done?d([]):new f(function(k,m){function D(B){return function(C){n[B]=C;t--;t==0&&k(n)}}var n=[],t=0;do n.push(void 0),t++,d(h.value).B(D(n.length-1),m),h=e.next();while(!h.done)})};return f});\n",
       "var A=this||self;function E(){return window.performance&&window.performance.navigation&&window.performance.navigation.type};var F=window.location;function G(a){return(a=F.search.match(new RegExp(\"[?&]\"+a+\"=(\\\\d+)\")))?Number(a[1]):-1}function H(){var a=google.timers.load;google.c.gts?google.c.gts(function(){I(a)}):I(a)}\n",
       "function I(a){var b=a.e,d=google.stvsc;d&&(b.ssr=1);if(d?d.isBF:E()===2)b.bb=1;E()===1&&(b.r=1);a:{if(window.performance&&window.performance.getEntriesByType&&(d=window.performance.getEntriesByType(\"navigation\"),d.length!==0)){d=d[0];break a}d=void 0}if(d){var l=d.type;l&&(b.nt=l);l=d.deliveryType;l!=null&&(b.dt=l);d=d.transferSize;d!=null&&(b.ts=d)}(d=window.navigation)&&(d=d.activation)&&(d=d.navigationType)&&(b.ant=d);b=a.m;if(!b||!b.prs){d=window._csc===\"agsa\"&&window._cshid;l=E()||d?0:G(\"qsubts\");l>0&&(b=G(\"fbts\"),b>0&&(a.t.start=Math.max(l,b)));var f=a.t,v=f.start;b={};a.wsrt!==void 0&&(b.wsrt=a.wsrt);if(v)for(var c in f)if(c!==\"start\"){var e=f[c];b[c]=c===\"sgl\"?e:Math.max(e-v,0)}l>0&&(b.gsasrt=a.t.start-l,c=G(\"qsd\"),c>0&&google.c.e(\"load\",\"qsd\",String(c)),(c=a.fbts)&&(b.gsasrt2=Math.max(l,c)-l));E()||d||!a.qsubts||(c=a.fbts)&&(b.gsasrt3=Math.max(a.qsubts,c)-a.qsubts);c=a.e;a=\"/gen_204?s=\"+google.sn+\"&t=sg&atyp=csi&ei=\"+google.kEI+\"&rt=\";d=\"\";for(k in b)a+=\"\"+d+k+\".\"+b[k],d=\",\";for(var h in c)a+=\n",
       "\"&\"+h+\"=\"+c[h];var k=\"\";A._cshid&&(k+=\"&cshid=\"+A._cshid);(h=window.google&&window.google.kOPI||null)&&(k+=\"&opi=\"+h);k=a+=k;typeof navigator.sendBeacon===\"function\"?navigator.sendBeacon(k,\"\"):google.log(\"\",\"\",k)}};var J=function(){var a=location.href;this.i=this.j=\"\";var b=a.indexOf(\"#\");b>0&&(this.j=a.substring(b),a=a.substring(0,b));b=a.indexOf(\"?\");b>0&&(this.i=\"&\"+a.substring(b+1),a=a.substring(0,b));this.l=a},L=function(a,b,d){K(a,b);a.i=a.i+\"&\"+b+\"=\"+d},K=function(a,b){a.i=a.i.replace(new RegExp(\"&\"+b+\"=([^&]+)\",\"g\"),\"\")};J.prototype.toString=function(){return\"\"+this.l+(this.i?\"?\"+this.i.substring(1):\"\")+this.j};\n",
       "var M=function(a){this.i=a};M.prototype.toString=function(){return this.i};var N=function(a){this.N=a};function O(a){return new N(function(b){return b.substr(0,a.length+1).toLowerCase()===a+\":\"})}var P=[O(\"data\"),O(\"http\"),O(\"https\"),O(\"mailto\"),O(\"ftp\"),new N(function(a){return/^[^:]*([/?#]|$)/.test(a)})],Q=/^\\s*(?!javascript:)(?:[\\w+.-]+:|[^:/?#]*(?:[/?#]|$))/i;function R(){var a=A[g];if(a){a=z((0,a.a)(p,function(){},!1)).next().value;var b=[aa()];return a(b)}S(Error(\"f\"))}function aa(){var a=location.href,b=hashed_query,d={};b&&(d.qh=b,(a=(a=a.match(/[?&]start=(\\d+)/g))?a[a.length-1].match(/\\d+/)[0]:\"\")&&(d.st=a));return d}\n",
       "function T(){var a;a:{if(window.st&&(a=window.st(location.href)))break a;a=performance&&performance.timing&&performance.timing.navigationStart?performance.timing.navigationStart:void 0}if(a)try{var b;((b=window)==null?0:b.sessionStorage)&&window.sessionStorage.setItem(eid,String(a))}catch(d){}}function U(){var a=eid,b=new J;K(b,\"sg_ss\");L(b,\"sei\",a);return b.toString()}function V(a){var b=eid,d=new J;L(d,\"sg_ss\",encodeURIComponent(a));L(d,\"sei\",b);W(d.toString())}\n",
       "function ba(a){if(window.prs){X(\"psrt\");sctm&&H();var b=U();window.prs(b,a).catch(function(){V(a)})}else V(a)}function W(a){X(\"psrt\");sctm&&H();window.prs?window.prs(a).catch(function(){Y(a)}):Y(a)}\n",
       "function Y(a){if(window.pr)window.pr(a);else{a:{var b=b===void 0?P:b;if(a instanceof M)b=a;else{for(var d=0;d<b.length;++d){var l=b[d];if(l instanceof N&&l.N(a)){b=new M(a);break a}}b=void 0}}a=location;if(b instanceof M)if(b instanceof M)b=b.i;else throw Error(\"e\");else b=Q.test(b)?b:void 0;b!==void 0&&a.replace(b)}}function S(a){navigator.sendBeacon(\"/gen_204?cad=sg_b_e&e=\"+a,\"\")}function X(a){sctm&&google.tick(\"load\",a)};navigator||(A.navigator={});typeof navigator.sendBeacon!==\"function\"&&(navigator.sendBeacon=function(a){(new Image).src=a});window.onerror=function(a,b,d,l,f){navigator.sendBeacon(\"/gen_204?emsg=\"+(f instanceof Error?f.message:a)+\"&srcpg=sgs&jsr=1&jsel=3\")};X(\"sst\");var Z;window.sgs&&ussv?(X(\"ssst\"),Z=window.sgs(sp).then(function(a){X(\"sset\");r&&(T(),ba(a));return!0},function(){return!1})):Z=Promise.resolve(!1);Z.then(function(a){if(!a&&(X(\"bsst\"),a=R(),X(\"bset\"),a)){var b=cbs;a=hashed_query?\"B.1.\"+b+\".\"+a:a;b=new Date;b.setSeconds(b.getSeconds()+(Number(ce)||300));var d=\"SG_SS=\"+a,l=document.cookie.length+d.length;r&&(l<4093&&!ss_cgi&&(document.cookie=d+(\"; expires=\"+b.toUTCString())),T(),ss_cgi||document.cookie.indexOf(\"SG_SS=\")<0?V(a):W(U()))}}).catch(function(a){S(a)});}).call(this);})();</script><script nonce=\"CKK9X3rNtWEnKXG58_SWLw\">(function(){var cssId='yvlrue';var event_id='7oxzaKzFCLyE4-EPytyZ-Q8';function sw(){document.getElementById(cssId).setAttribute('style','');navigator.sendBeacon(`/gen_204?cad=sg_trbl&ei=${event_id}`,'');}\n",
       "setTimeout(sw,2000);})();</script><style>div{font-family:sans-serif;color:#545454;background-color:#fff}a{color:#1558d6;font-size:inherit;text-decoration:none}a:visited{color:#681da8}</style><div id=\"yvlrue\" style=\"display:none\">If you're having trouble accessing Google Search, please <a href=\"/search?q=Virat+kohli+Wikipedia&amp;sca_esv=440a43a3eb6979b0&amp;ie=UTF-8&amp;emsg=SG_REL&amp;sei=7oxzaKzFCLyE4-EPytyZ-Q8\">click here</a>, or send <a href=\"https://support.google.com/websearch\">feedback</a>.</div></body></html>"
      ]
     },
     "execution_count": 4,
     "metadata": {},
     "output_type": "execute_result"
    }
   ],
   "source": [
    "soup  = BeautifulSoup(response.text, 'html.parser')\n",
    "soup"
   ]
  },
  {
   "cell_type": "code",
   "execution_count": 5,
   "id": "31b9c683",
   "metadata": {},
   "outputs": [
    {
     "name": "stdout",
     "output_type": "stream",
     "text": [
      "Trying direct Wikipedia search...\n",
      "Successfully found Wikipedia page at: https://en.wikipedia.org/wiki/Virat_kohli\n",
      "Final Wikipedia URL: https://en.wikipedia.org/wiki/Virat_kohli\n",
      "Successfully found Wikipedia page at: https://en.wikipedia.org/wiki/Virat_kohli\n",
      "Final Wikipedia URL: https://en.wikipedia.org/wiki/Virat_kohli\n"
     ]
    }
   ],
   "source": [
    "# More robust approach to get Wikipedia URL\n",
    "import urllib.parse\n",
    "\n",
    "# Method 1: Try to extract from Google search results\n",
    "wikipedia_url = None\n",
    "\n",
    "# Look for Wikipedia links in search results with better patterns\n",
    "for link_tag in soup.find_all('a', href=True):\n",
    "    href = link_tag.get('href')\n",
    "    if href:\n",
    "        # Check if it's a Google redirect to Wikipedia\n",
    "        if '/url?q=' in href and 'en.wikipedia.org' in href:\n",
    "            # Extract the actual URL\n",
    "            try:\n",
    "                parsed_url = urllib.parse.parse_qs(urllib.parse.urlparse(href).query)\n",
    "                if 'q' in parsed_url:\n",
    "                    wikipedia_url = parsed_url['q'][0]\n",
    "                    break\n",
    "            except:\n",
    "                pass\n",
    "        # Direct Wikipedia link (less common in Google results)\n",
    "        elif 'en.wikipedia.org' in href and href.startswith('http'):\n",
    "            wikipedia_url = href\n",
    "            break\n",
    "\n",
    "# Method 2: If not found, construct Wikipedia URL directly\n",
    "if not wikipedia_url:\n",
    "    print(\"Trying direct Wikipedia search...\")\n",
    "    # Clean the search term for Wikipedia URL\n",
    "    clean_name = inp.strip().replace(' ', '_')\n",
    "    wikipedia_url = f\"https://en.wikipedia.org/wiki/{clean_name}\"\n",
    "    \n",
    "    # Test if this Wikipedia page exists\n",
    "    test_response = requests.get(wikipedia_url)\n",
    "    if test_response.status_code == 200 and 'Wikipedia' in test_response.text:\n",
    "        print(f\"Successfully found Wikipedia page at: {wikipedia_url}\")\n",
    "    else:\n",
    "        # Try a Wikipedia search if direct page doesn't exist\n",
    "        search_url = f\"https://en.wikipedia.org/wiki/Special:Search?search={urllib.parse.quote(inp)}\"\n",
    "        print(f\"Direct page not found, trying search: {search_url}\")\n",
    "        wikipedia_url = search_url\n",
    "\n",
    "print(f\"Final Wikipedia URL: {wikipedia_url}\")"
   ]
  },
  {
   "cell_type": "code",
   "execution_count": 6,
   "id": "165e9095",
   "metadata": {},
   "outputs": [
    {
     "name": "stdout",
     "output_type": "stream",
     "text": [
      "Wikipedia content scraped successfully!\n",
      "Content length: 73879 characters\n",
      "\n",
      "First 500 characters:\n",
      "Virat Kohli (born 5 November 1988) Hindi pronunciation: [ʋɪˈɾaːʈᵊ ˈkoːɦᵊliː] ⓘ is an Indian international cricketer and the former captain of the Indian national cricket team. He is a right-handed batsman and an occasional medium-fast bowler. He currently represents Royal Challengers Bengaluru in the IPL and Delhi in domestic cricket. Kohli is widely regarded as one of the greatest batters of all time.[3] He also holds the record for scoring the most centuries in ODI cricket and stands second in...\n"
     ]
    }
   ],
   "source": [
    "# scraping the paragraphs from the actual wikipedia page\n",
    "if wikipedia_url:\n",
    "    # Make a request to the actual Wikipedia page\n",
    "    wiki_response = requests.get(wikipedia_url)\n",
    "    wiki_soup = BeautifulSoup(wiki_response.text, 'html.parser')\n",
    "    \n",
    "    # Extract paragraphs from the Wikipedia page\n",
    "    paragraphs = ''\n",
    "    \n",
    "    # Find the main content div in Wikipedia\n",
    "    content_div = wiki_soup.find('div', {'id': 'mw-content-text'})\n",
    "    \n",
    "    if content_div:\n",
    "        # Get all paragraphs within the content area\n",
    "        for p in content_div.find_all('p'):\n",
    "            paragraphs += p.text.strip()\n",
    "            paragraphs += '\\n\\n'\n",
    "    else:\n",
    "        # Fallback: get all paragraphs if main content div not found\n",
    "        for p in wiki_soup.find_all('p'):\n",
    "            paragraphs += p.text.strip()\n",
    "            paragraphs += '\\n\\n'\n",
    "    \n",
    "    paragraphs = paragraphs.strip()\n",
    "    print(\"Wikipedia content scraped successfully!\")\n",
    "    print(f\"Content length: {len(paragraphs)} characters\")\n",
    "    print(\"\\nFirst 500 characters:\")\n",
    "    print(paragraphs[:500] + \"...\" if len(paragraphs) > 500 else paragraphs)\n",
    "else:\n",
    "    print(\"Cannot scrape Wikipedia content - no valid Wikipedia URL found\")"
   ]
  },
  {
   "cell_type": "code",
   "execution_count": null,
   "id": "9a77ca74",
   "metadata": {},
   "outputs": [
    {
     "name": "stdout",
     "output_type": "stream",
     "text": [
      "Content saved to: Virat_kohli_wikipedia.txt\n",
      "\n",
      "Content Statistics:\n",
      "- Character count: 73879\n",
      "- Word count: 11882\n",
      "- Approximate sentence count: 603\n"
     ]
    }
   ],
   "source": [
    "#  Save the scraped content to a file\n",
    "if 'paragraphs' in locals() and paragraphs:\n",
    "    # Create a filename based on the search term\n",
    "    filename = f\"{inp.replace(' ', '_')}_wikipedia.txt\"\n",
    "    \n",
    "    with open(filename, 'w', encoding='utf-8') as f:\n",
    "        f.write(f\"Wikipedia content for: {inp}\\n\")\n",
    "        f.write(f\"Source URL: {wikipedia_url}\\n\")\n",
    "        f.write(\"=\"*50 + \"\\n\\n\")\n",
    "        f.write(paragraphs)\n",
    "    \n",
    "    print(f\"Content saved to: {filename}\")\n",
    "    \n",
    "    # Display some statistics\n",
    "    word_count = len(paragraphs.split())\n",
    "    sentence_count = paragraphs.count('.') + paragraphs.count('!') + paragraphs.count('?')\n",
    "    \n",
    "    print(f\"\\nContent Statistics:\")\n",
    "    print(f\"- Character count: {len(paragraphs)}\")\n",
    "    print(f\"- Word count: {word_count}\")\n",
    "    print(f\"- Approximate sentence count: {sentence_count}\")\n",
    "else:\n",
    "    print(\"No content to save\")"
   ]
  }
 ],
 "metadata": {
  "kernelspec": {
   "display_name": "Python 3",
   "language": "python",
   "name": "python3"
  },
  "language_info": {
   "codemirror_mode": {
    "name": "ipython",
    "version": 3
   },
   "file_extension": ".py",
   "mimetype": "text/x-python",
   "name": "python",
   "nbconvert_exporter": "python",
   "pygments_lexer": "ipython3",
   "version": "3.12.4"
  }
 },
 "nbformat": 4,
 "nbformat_minor": 5
}
