{
 "cells": [
  {
   "cell_type": "code",
   "execution_count": 1,
   "id": "1cc2ca5b",
   "metadata": {},
   "outputs": [],
   "source": [
    "#Importing Important Libraries\n",
    "import requests\n",
    "from bs4 import BeautifulSoup\n",
    "\n",
    "link = 'https://books.toscrape.com/catalogue/page-1.html'\n",
    "\n",
    "#Sending a request to the website(link)\n",
    "res = requests.get(link)\n",
    "\n",
    "#Creating a soup using BeautifulSoup\n",
    "soup = BeautifulSoup(res.text,'html.parser')"
   ]
  },
  {
   "cell_type": "code",
   "execution_count": 2,
   "id": "80c73932",
   "metadata": {},
   "outputs": [],
   "source": [
    "# code\n",
    "book = soup.find_all('li',class_ = 'col-xs-6 col-sm-4 col-md-3 col-lg-3')\n",
    "\n",
    "data=[]\n",
    "for sp in soup.find_all('li',class_ = 'col-xs-6 col-sm-4 col-md-3 col-lg-3'):\n",
    "    #print(sp)\n",
    "\t#Finding different aspects to be scraped from the first page \n",
    "    book_link   = \"https://books.toscrape.com/catalogue/\" + sp.find_all('a')[-1].get('href')\n",
    "    \n",
    "    title       = sp.find_all('a')[-1].get('title')\n",
    "    \n",
    "    img_link    = \"https://books.toscrape.com/\" + sp.find('img').get('src')[3:]\n",
    "    \n",
    "    book_rating = (sp.find('p').get('class')[-1])\n",
    "    \n",
    "    price       = sp.find('p',class_='price_color').text[1:]\n",
    "    \n",
    "    stock       =  sp.find('p',class_ = 'instock availability').text.strip()\n",
    "\t#Appending all the data into a list(data)\n",
    "    data.append([title,book_rating,price,stock,book_link,img_link])"
   ]
  },
  {
   "cell_type": "code",
   "execution_count": 3,
   "id": "d6d06493",
   "metadata": {},
   "outputs": [
    {
     "name": "stderr",
     "output_type": "stream",
     "text": [
      "100%|██████████| 50/50 [01:20<00:00,  1.60s/it]\n"
     ]
    }
   ],
   "source": [
    "from tqdm import tqdm\n",
    "Multiple_Pages = []\n",
    "#tqdm used for better representation.\n",
    "for page in tqdm(range(1,51)):\n",
    "  \t#using a for loop as there are 50 pages then creating a link using page-1,page-2...page-50\n",
    "    link = 'https://books.toscrape.com/catalogue/page-'+str(page)+'.html'\n",
    "    res = requests.get(link)\n",
    "    soap = BeautifulSoup(res.text,'html.parser')\n",
    "    #same code as in scraping for 1 page\n",
    "    for sp in soap.find_all('li',class_ = 'col-xs-6 col-sm-4 col-md-3 col-lg-3'):\n",
    "       \n",
    "        book_link   = \"https://books.toscrape.com/catalogue/\" + sp.find_all('a')[-1].get('href')\n",
    "\n",
    "        title       = sp.find_all('a')[-1].get('title')\n",
    "\n",
    "        img_link    = \"https://books.toscrape.com/\" + sp.find('img').get('src')[3:]\n",
    "\n",
    "        book_rating = (sp.find('p').get('class')[-1])\n",
    "\n",
    "        price       = sp.find('p',class_='price_color').text[1:]\n",
    "\n",
    "        stock       =  sp.find('p',class_ = 'instock availability').text.strip()\n",
    "\n",
    "        Multiple_Pages.append([title,book_rating,price,stock,book_link,img_link])"
   ]
  },
  {
   "cell_type": "code",
   "execution_count": 4,
   "id": "b8282268",
   "metadata": {},
   "outputs": [],
   "source": [
    "#Creating a Dataframe\n",
    "import pandas as pd\n",
    "Multiple_Pages_df = pd.DataFrame(data=Multiple_Pages)\n",
    "Multiple_Pages_df = Multiple_Pages_df.rename(columns={0: 'Title', 1: 'Rating',2:'Price',3:'Stock Available',4:'Book Link',5:'Image Link'})\n",
    "df_1 = Multiple_Pages_df"
   ]
  },
  {
   "cell_type": "code",
   "execution_count": 5,
   "id": "d90d0a06",
   "metadata": {},
   "outputs": [],
   "source": [
    "Multiple_Pages_df.to_csv('All Books.csv',index=False)"
   ]
  },
  {
   "cell_type": "code",
   "execution_count": 6,
   "id": "a9bf12aa",
   "metadata": {},
   "outputs": [
    {
     "name": "stderr",
     "output_type": "stream",
     "text": [
      "100%|██████████| 1000/1000 [22:13<00:00,  1.33s/it] \n"
     ]
    }
   ],
   "source": [
    "data_2 = []\n",
    "for links in tqdm(Multiple_Pages_df['Book Link']):\n",
    "    res        = requests.get(links)\n",
    "    soup       = BeautifulSoup(res.text,'html.parser')\n",
    "    \n",
    "    Book_Genre       = soup.find('ul',class_ = 'breadcrumb').find_all('a')[2].text\n",
    "    \n",
    "    temp       = soup.find('table',class_ = 'table table-striped').find_all('td')    \n",
    "    \n",
    "    UPC              = temp[0].text\n",
    "    price_exc_tax    = temp[2].text[1:]\n",
    "    price_inc_tax    = temp[3].text[2:]\n",
    "    tax              = temp[4].text[2:]\n",
    "    availability     = temp[5].text\n",
    "    reviews          = temp[6].text   \n",
    "    data_2.append([Book_Genre,price_exc_tax,price_inc_tax,tax,UPC,availability,reviews])"
   ]
  },
  {
   "cell_type": "code",
   "execution_count": 7,
   "id": "bd07e9d1",
   "metadata": {},
   "outputs": [],
   "source": [
    "#Creating a dataframe\n",
    "df_2 = pd.DataFrame(data_2)\n",
    "df_2 = df_2.rename(columns={0:'Genre',1:'Price',2:\"Price(Excluding Tax)\",3:\"Price(Including Tax)\" ,4:\"UPC\",5:\"Stock\",6:\"Reviews\"})\n",
    "\n",
    "#Saving Dataframe\n",
    "df_2.to_csv('All Page.csv',index=False)"
   ]
  },
  {
   "cell_type": "code",
   "execution_count": 9,
   "id": "5920df08",
   "metadata": {},
   "outputs": [],
   "source": [
    "df = pd.DataFrame()\n",
    "df['UPC']   = df_2['UPC']\n",
    "df['Title'] = df_1['Title']\n",
    "df['Genre']  = df_2['Genre']\n",
    "df['Rating'] = df_1['Rating']\n",
    "df['Price']   = df_2['Price']\n",
    "\n",
    "df['Stock'] = df_2['Stock']\n",
    "df['Review'] = df_2['Reviews']\n",
    "df['Book Link'] = df_1['Book Link']\n",
    "df['Cover Image'] = df_1['Image Link']\n",
    "\n",
    "#Saving final scrap\n",
    "df.to_csv(\"Final Scrap.csv\")"
   ]
  },
  {
   "cell_type": "code",
   "execution_count": null,
   "id": "78cebeed",
   "metadata": {},
   "outputs": [],
   "source": []
  }
 ],
 "metadata": {
  "kernelspec": {
   "display_name": "Python 3",
   "language": "python",
   "name": "python3"
  },
  "language_info": {
   "codemirror_mode": {
    "name": "ipython",
    "version": 3
   },
   "file_extension": ".py",
   "mimetype": "text/x-python",
   "name": "python",
   "nbconvert_exporter": "python",
   "pygments_lexer": "ipython3",
   "version": "3.12.4"
  }
 },
 "nbformat": 4,
 "nbformat_minor": 5
}
